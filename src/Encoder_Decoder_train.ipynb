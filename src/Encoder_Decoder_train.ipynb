{
 "cells": [
  {
   "cell_type": "markdown",
   "id": "ea24f82b",
   "metadata": {},
   "source": [
    "# CNN+LSTM の Encoder-Decoderモデル"
   ]
  },
  {
   "cell_type": "code",
   "execution_count": 2,
   "id": "427e5779",
   "metadata": {},
   "outputs": [],
   "source": [
    "import torch\n",
    "import torch.nn as nn\n",
    "import numpy as np\n",
    "from torch.utils.data import DataLoader\n",
    "import pickle\n",
    "from PIL import Image\n",
    "import matplotlib.pyplot as plt\n",
    "from SSRW_encoder_decoder import SSRWEncoderDecoder\n",
    "from Trainer import Trainer, SpeakingDataset, collate_fn"
   ]
  },
  {
   "cell_type": "markdown",
   "id": "65192a09",
   "metadata": {},
   "source": [
    "## ハイパーパラメータの設定"
   ]
  },
  {
   "cell_type": "code",
   "execution_count": 8,
   "id": "32406183",
   "metadata": {},
   "outputs": [
    {
     "name": "stdout",
     "output_type": "stream",
     "text": [
      "cuda:0\n"
     ]
    }
   ],
   "source": [
    "BATCH_SIZE = 16\n",
    "lstm_hidden_dim = 128\n",
    "device = torch.device('cuda:0') if torch.cuda.is_available() else torch.device('cpu')\n",
    "print(device)"
   ]
  },
  {
   "cell_type": "code",
   "execution_count": 5,
   "id": "053abf58",
   "metadata": {},
   "outputs": [],
   "source": [
    "EPOCHS = 20"
   ]
  },
  {
   "cell_type": "markdown",
   "id": "50caf759",
   "metadata": {},
   "source": [
    "## データセット、データロードの設定"
   ]
  },
  {
   "cell_type": "code",
   "execution_count": null,
   "id": "a9f519d2",
   "metadata": {},
   "outputs": [],
   "source": []
  },
  {
   "cell_type": "markdown",
   "id": "7297e55d",
   "metadata": {},
   "source": [
    "## モデルのインスタンス化"
   ]
  },
  {
   "cell_type": "code",
   "execution_count": null,
   "id": "35204c87",
   "metadata": {},
   "outputs": [],
   "source": []
  },
  {
   "cell_type": "code",
   "execution_count": null,
   "id": "a509d8f4",
   "metadata": {},
   "outputs": [],
   "source": []
  }
 ],
 "metadata": {
  "kernelspec": {
   "display_name": "Python 3 (ipykernel)",
   "language": "python",
   "name": "python3"
  },
  "language_info": {
   "codemirror_mode": {
    "name": "ipython",
    "version": 3
   },
   "file_extension": ".py",
   "mimetype": "text/x-python",
   "name": "python",
   "nbconvert_exporter": "python",
   "pygments_lexer": "ipython3",
   "version": "3.8.12"
  }
 },
 "nbformat": 4,
 "nbformat_minor": 5
}
